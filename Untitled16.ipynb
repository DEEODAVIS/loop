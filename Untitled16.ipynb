{
  "nbformat": 4,
  "nbformat_minor": 0,
  "metadata": {
    "colab": {
      "provenance": [],
      "authorship_tag": "ABX9TyPXR27sZrhN+epd1mcjI57X",
      "include_colab_link": true
    },
    "kernelspec": {
      "name": "python3",
      "display_name": "Python 3"
    },
    "language_info": {
      "name": "python"
    }
  },
  "cells": [
    {
      "cell_type": "markdown",
      "metadata": {
        "id": "view-in-github",
        "colab_type": "text"
      },
      "source": [
        "<a href=\"https://colab.research.google.com/github/DEEODAVIS/loop/blob/main/Untitled16.ipynb\" target=\"_parent\"><img src=\"https://colab.research.google.com/assets/colab-badge.svg\" alt=\"Open In Colab\"/></a>"
      ]
    },
    {
      "cell_type": "code",
      "execution_count": 3,
      "metadata": {
        "id": "uW7XIjkU14dT"
      },
      "outputs": [],
      "source": [
        "number=10.5"
      ]
    },
    {
      "cell_type": "code",
      "source": [
        "type(number)"
      ],
      "metadata": {
        "colab": {
          "base_uri": "https://localhost:8080/"
        },
        "id": "kNzS-W3P3K0d",
        "outputId": "c3649a17-481f-45ea-a451-66c80ccace33"
      },
      "execution_count": 4,
      "outputs": [
        {
          "output_type": "execute_result",
          "data": {
            "text/plain": [
              "float"
            ]
          },
          "metadata": {},
          "execution_count": 4
        }
      ]
    },
    {
      "cell_type": "code",
      "source": [
        "number=10"
      ],
      "metadata": {
        "id": "QgToz82P3bA-"
      },
      "execution_count": 7,
      "outputs": []
    },
    {
      "cell_type": "code",
      "source": [
        "type(number)"
      ],
      "metadata": {
        "colab": {
          "base_uri": "https://localhost:8080/"
        },
        "id": "XMvn1JG-3hZd",
        "outputId": "d651d28c-161c-4c70-f485-3ee9fa697b3e"
      },
      "execution_count": 6,
      "outputs": [
        {
          "output_type": "execute_result",
          "data": {
            "text/plain": [
              "int"
            ]
          },
          "metadata": {},
          "execution_count": 6
        }
      ]
    },
    {
      "cell_type": "code",
      "source": [
        "number=10+7.5"
      ],
      "metadata": {
        "id": "hebw7kzJ3lOt"
      },
      "execution_count": 8,
      "outputs": []
    },
    {
      "cell_type": "code",
      "source": [
        "type(number)"
      ],
      "metadata": {
        "colab": {
          "base_uri": "https://localhost:8080/"
        },
        "id": "nZn1d9Rt33_-",
        "outputId": "38b6a1bb-b5b3-4349-e0b0-6286ee2d6881"
      },
      "execution_count": 9,
      "outputs": [
        {
          "output_type": "execute_result",
          "data": {
            "text/plain": [
              "float"
            ]
          },
          "metadata": {},
          "execution_count": 9
        }
      ]
    },
    {
      "cell_type": "code",
      "source": [
        "c=10+5j"
      ],
      "metadata": {
        "id": "eSO1BJ4S38yG"
      },
      "execution_count": 10,
      "outputs": []
    },
    {
      "cell_type": "code",
      "source": [
        "type(c)"
      ],
      "metadata": {
        "colab": {
          "base_uri": "https://localhost:8080/"
        },
        "id": "xNzWQ3WK4FFE",
        "outputId": "54c8f837-8607-4825-a554-ab740919ecd9"
      },
      "execution_count": 12,
      "outputs": [
        {
          "output_type": "execute_result",
          "data": {
            "text/plain": [
              "complex"
            ]
          },
          "metadata": {},
          "execution_count": 12
        }
      ]
    },
    {
      "cell_type": "code",
      "source": [
        "X=\"I AM A RAJAGIRI STUDENT\""
      ],
      "metadata": {
        "id": "wV64uss44IVj"
      },
      "execution_count": 18,
      "outputs": []
    },
    {
      "cell_type": "code",
      "source": [
        "type(X)"
      ],
      "metadata": {
        "colab": {
          "base_uri": "https://localhost:8080/"
        },
        "id": "fOpXGMm64ZiT",
        "outputId": "01b51800-65c0-4fb5-bc3e-cfec306bde85"
      },
      "execution_count": 20,
      "outputs": [
        {
          "output_type": "execute_result",
          "data": {
            "text/plain": [
              "str"
            ]
          },
          "metadata": {},
          "execution_count": 20
        }
      ]
    },
    {
      "cell_type": "code",
      "source": [
        "friend=[\"CERIEN,DONAL,ROBIN,ADARSH,AKSHIK\"]"
      ],
      "metadata": {
        "id": "S5DK6dzO4zUd"
      },
      "execution_count": 67,
      "outputs": []
    },
    {
      "cell_type": "code",
      "source": [
        "type(friend)"
      ],
      "metadata": {
        "colab": {
          "base_uri": "https://localhost:8080/"
        },
        "id": "n6zkNVtZ5j9z",
        "outputId": "ae7d2f7e-bd33-4dc3-f1be-e3ef70d2d81e"
      },
      "execution_count": 68,
      "outputs": [
        {
          "output_type": "execute_result",
          "data": {
            "text/plain": [
              "list"
            ]
          },
          "metadata": {},
          "execution_count": 68
        }
      ]
    },
    {
      "cell_type": "code",
      "source": [
        "f=(\"c,d,r,a,a\")"
      ],
      "metadata": {
        "id": "b8kxADL15voh"
      },
      "execution_count": 23,
      "outputs": []
    },
    {
      "cell_type": "code",
      "source": [
        "type(f)"
      ],
      "metadata": {
        "colab": {
          "base_uri": "https://localhost:8080/"
        },
        "id": "SGdHhI7_6F05",
        "outputId": "9653a72c-a00c-4c44-e929-a39aa3654222"
      },
      "execution_count": 24,
      "outputs": [
        {
          "output_type": "execute_result",
          "data": {
            "text/plain": [
              "str"
            ]
          },
          "metadata": {},
          "execution_count": 24
        }
      ]
    },
    {
      "cell_type": "code",
      "source": [
        "friends=[\"LIYA\",\"BONY\",\"EBIN\",\"DONAL\",\"AKSHIK\"]\n",
        "print(type(friends))\n",
        "print(friends[2])\n"
      ],
      "metadata": {
        "colab": {
          "base_uri": "https://localhost:8080/"
        },
        "id": "Tval4kE36JnB",
        "outputId": "4fc33266-ae8c-4cc4-a3eb-91d747d4295c"
      },
      "execution_count": 102,
      "outputs": [
        {
          "output_type": "stream",
          "name": "stdout",
          "text": [
            "<class 'list'>\n",
            "EBIN\n"
          ]
        }
      ]
    },
    {
      "cell_type": "code",
      "source": [
        "friends.pop(2)"
      ],
      "metadata": {
        "colab": {
          "base_uri": "https://localhost:8080/",
          "height": 35
        },
        "id": "nUinQx-a9kIU",
        "outputId": "90051f32-d88a-4939-a64c-2082277e3be9"
      },
      "execution_count": 103,
      "outputs": [
        {
          "output_type": "execute_result",
          "data": {
            "text/plain": [
              "'EBIN'"
            ],
            "application/vnd.google.colaboratory.intrinsic+json": {
              "type": "string"
            }
          },
          "metadata": {},
          "execution_count": 103
        }
      ]
    },
    {
      "cell_type": "code",
      "source": [
        "friends.sort()"
      ],
      "metadata": {
        "id": "tjqIgxGc_gcT"
      },
      "execution_count": 104,
      "outputs": []
    },
    {
      "cell_type": "code",
      "source": [
        "print(friends)"
      ],
      "metadata": {
        "colab": {
          "base_uri": "https://localhost:8080/"
        },
        "id": "mB6AnG85_uGU",
        "outputId": "f9f0d8a0-70c6-4951-e522-ea345b8fa51c"
      },
      "execution_count": 105,
      "outputs": [
        {
          "output_type": "stream",
          "name": "stdout",
          "text": [
            "['AKSHIK', 'BONY', 'DONAL', 'LIYA']\n"
          ]
        }
      ]
    },
    {
      "cell_type": "code",
      "source": [
        "friends.append(\"ROSHAN\")\n",
        "print(friends)"
      ],
      "metadata": {
        "colab": {
          "base_uri": "https://localhost:8080/"
        },
        "id": "KkJ2Hxmn_1Ds",
        "outputId": "86487799-dc61-408f-991d-c1c134ca5333"
      },
      "execution_count": 106,
      "outputs": [
        {
          "output_type": "stream",
          "name": "stdout",
          "text": [
            "['AKSHIK', 'BONY', 'DONAL', 'LIYA', 'ROSHAN']\n"
          ]
        }
      ]
    },
    {
      "cell_type": "code",
      "source": [
        "\n",
        "friends.sort()\n",
        "print(friends)\n"
      ],
      "metadata": {
        "colab": {
          "base_uri": "https://localhost:8080/"
        },
        "id": "XoGi_eDdAVFz",
        "outputId": "9720922a-9b65-40a2-d81e-2fa8fb4c2bb6"
      },
      "execution_count": 107,
      "outputs": [
        {
          "output_type": "stream",
          "name": "stdout",
          "text": [
            "['AKSHIK', 'BONY', 'DONAL', 'LIYA', 'ROSHAN']\n"
          ]
        }
      ]
    },
    {
      "cell_type": "code",
      "source": [
        "friends.reverse()"
      ],
      "metadata": {
        "id": "eXwYBWWTAjeE"
      },
      "execution_count": 108,
      "outputs": []
    },
    {
      "cell_type": "code",
      "source": [
        "print(friends)"
      ],
      "metadata": {
        "colab": {
          "base_uri": "https://localhost:8080/"
        },
        "id": "A5tpwLGEA0nk",
        "outputId": "9270e963-4b56-4937-cc5a-923ed252c9ca"
      },
      "execution_count": 109,
      "outputs": [
        {
          "output_type": "stream",
          "name": "stdout",
          "text": [
            "['ROSHAN', 'LIYA', 'DONAL', 'BONY', 'AKSHIK']\n"
          ]
        }
      ]
    },
    {
      "cell_type": "code",
      "source": [
        "friends.insert(2,\"ABY\")"
      ],
      "metadata": {
        "id": "1sUbsxiYA747"
      },
      "execution_count": 110,
      "outputs": []
    },
    {
      "cell_type": "code",
      "source": [
        "print(friends)"
      ],
      "metadata": {
        "colab": {
          "base_uri": "https://localhost:8080/"
        },
        "id": "pkG0KsPfBM6c",
        "outputId": "9476df79-bd76-4fb3-f812-82ec3bde2a85"
      },
      "execution_count": 111,
      "outputs": [
        {
          "output_type": "stream",
          "name": "stdout",
          "text": [
            "['ROSHAN', 'LIYA', 'ABY', 'DONAL', 'BONY', 'AKSHIK']\n"
          ]
        }
      ]
    },
    {
      "cell_type": "code",
      "source": [
        "friends.sort()\n",
        "print(friends)\n"
      ],
      "metadata": {
        "colab": {
          "base_uri": "https://localhost:8080/"
        },
        "outputId": "4d987351-b664-4409-a8d5-5c3c396b589e",
        "id": "jPOSCGyYBcj5"
      },
      "execution_count": 112,
      "outputs": [
        {
          "output_type": "stream",
          "name": "stdout",
          "text": [
            "['ABY', 'AKSHIK', 'BONY', 'DONAL', 'LIYA', 'ROSHAN']\n"
          ]
        }
      ]
    },
    {
      "cell_type": "code",
      "source": [
        "chunks=[\"JASEEM\",\"CRITSON\",\"VARSH\",\"AARON\",\"CERIN\"]"
      ],
      "metadata": {
        "id": "1-E9xcszBdmx"
      },
      "execution_count": 116,
      "outputs": []
    },
    {
      "cell_type": "code",
      "source": [
        "print(chunks)"
      ],
      "metadata": {
        "colab": {
          "base_uri": "https://localhost:8080/"
        },
        "id": "9M1HjQXbEPdH",
        "outputId": "08b80f28-592c-4a96-d48b-46f11b2cdff0"
      },
      "execution_count": 117,
      "outputs": [
        {
          "output_type": "stream",
          "name": "stdout",
          "text": [
            "['JASEEM', 'CRITSON', 'VARSH', 'AARON', 'CERIAN']\n"
          ]
        }
      ]
    },
    {
      "cell_type": "code",
      "source": [
        "(chunks+friends)"
      ],
      "metadata": {
        "colab": {
          "base_uri": "https://localhost:8080/"
        },
        "id": "W-dNlGClEYw8",
        "outputId": "f617a6d0-6ec3-49b9-a6e7-0deb10f5b5b0"
      },
      "execution_count": 122,
      "outputs": [
        {
          "output_type": "execute_result",
          "data": {
            "text/plain": [
              "['JASEEM',\n",
              " 'CRITSON',\n",
              " 'VARSH',\n",
              " 'AARON',\n",
              " 'CERIAN',\n",
              " 'ABY',\n",
              " 'AKSHIK',\n",
              " 'BONY',\n",
              " 'DONAL',\n",
              " 'LIYA',\n",
              " 'ROSHAN']"
            ]
          },
          "metadata": {},
          "execution_count": 122
        }
      ]
    },
    {
      "cell_type": "code",
      "source": [
        "tuple_items=[\"JASEEM\",\"CRITSON\",\"VARSH\",\"AARON\",\"CERIN\",\"LIYA\",\"BONY\",\"EBIN\",\"DONAL\",\"AKSHIK\"]"
      ],
      "metadata": {
        "id": "RnKnkCaUFERc"
      },
      "execution_count": 121,
      "outputs": []
    },
    {
      "cell_type": "code",
      "source": [
        "f={1,2,4,9,9,5,4,8,34,67}"
      ],
      "metadata": {
        "id": "2XhBWjZ7FaTG"
      },
      "execution_count": 125,
      "outputs": []
    },
    {
      "cell_type": "code",
      "source": [
        "type(f)"
      ],
      "metadata": {
        "colab": {
          "base_uri": "https://localhost:8080/"
        },
        "id": "htVHoLSCGUxA",
        "outputId": "5a876f33-2bca-454e-e341-6213f211adbd"
      },
      "execution_count": 126,
      "outputs": [
        {
          "output_type": "execute_result",
          "data": {
            "text/plain": [
              "set"
            ]
          },
          "metadata": {},
          "execution_count": 126
        }
      ]
    },
    {
      "cell_type": "code",
      "source": [
        "marks=[10,20,30,50,60]\n",
        "set1=set(marks)\n",
        "print(set1)"
      ],
      "metadata": {
        "colab": {
          "base_uri": "https://localhost:8080/"
        },
        "id": "ZdxJr2XLGXau",
        "outputId": "8023cf22-9631-4085-fa28-d5bbf53a2a98"
      },
      "execution_count": 127,
      "outputs": [
        {
          "output_type": "stream",
          "name": "stdout",
          "text": [
            "{10, 50, 20, 60, 30}\n"
          ]
        }
      ]
    },
    {
      "cell_type": "code",
      "source": [
        "dict={\"name\":\"DEEO\",\"number\":9495139263,\"place\":\"ANGAMALY\"}\n",
        "print(dict)"
      ],
      "metadata": {
        "colab": {
          "base_uri": "https://localhost:8080/"
        },
        "id": "69t62zrlHDXh",
        "outputId": "b62034ce-05c5-4fdb-b73e-e820fe1633a8"
      },
      "execution_count": 150,
      "outputs": [
        {
          "output_type": "stream",
          "name": "stdout",
          "text": [
            "{'name': 'DEEO', 'number': 9495139263, 'place': 'ANGAMALY'}\n"
          ]
        }
      ]
    },
    {
      "cell_type": "code",
      "source": [
        "dict[\"age\",]=17"
      ],
      "metadata": {
        "id": "TPt1JJi5JVeD"
      },
      "execution_count": 151,
      "outputs": []
    },
    {
      "cell_type": "code",
      "source": [
        "print(dict)"
      ],
      "metadata": {
        "colab": {
          "base_uri": "https://localhost:8080/"
        },
        "id": "3qeBm9NmJ7P6",
        "outputId": "bb7df5da-2d23-4349-dada-97fce02eeea5"
      },
      "execution_count": 152,
      "outputs": [
        {
          "output_type": "stream",
          "name": "stdout",
          "text": [
            "{'name': 'DEEO', 'number': 9495139263, 'place': 'ANGAMALY', ('age',): 17}\n"
          ]
        }
      ]
    },
    {
      "cell_type": "code",
      "source": [],
      "metadata": {
        "id": "Wj57LNWuKWIl"
      },
      "execution_count": 152,
      "outputs": []
    }
  ]
}