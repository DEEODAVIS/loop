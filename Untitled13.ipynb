{
  "nbformat": 4,
  "nbformat_minor": 0,
  "metadata": {
    "colab": {
      "provenance": [],
      "authorship_tag": "ABX9TyM9EAtGUiQVSwvjo1Kc+1kw",
      "include_colab_link": true
    },
    "kernelspec": {
      "name": "python3",
      "display_name": "Python 3"
    },
    "language_info": {
      "name": "python"
    }
  },
  "cells": [
    {
      "cell_type": "markdown",
      "metadata": {
        "id": "view-in-github",
        "colab_type": "text"
      },
      "source": [
        "<a href=\"https://colab.research.google.com/github/DEEODAVIS/loop/blob/main/Untitled13.ipynb\" target=\"_parent\"><img src=\"https://colab.research.google.com/assets/colab-badge.svg\" alt=\"Open In Colab\"/></a>"
      ]
    },
    {
      "cell_type": "markdown",
      "source": [],
      "metadata": {
        "id": "mdcL0p2ApMmv"
      }
    },
    {
      "cell_type": "code",
      "execution_count": null,
      "metadata": {
        "id": "U_1td_NEiiWA",
        "colab": {
          "base_uri": "https://localhost:8080/"
        },
        "outputId": "d431b451-54f0-49da-bf58-20b0d3f233e0"
      },
      "outputs": [
        {
          "output_type": "stream",
          "name": "stdout",
          "text": [
            "-20\n",
            "absolute value of - 20 is 20\n"
          ]
        }
      ],
      "source": [
        "num=int(input())\n",
        "if(num>0):\n",
        "  print(\"absolute value of\",num,\"is\",num)\n",
        "else:\n",
        "  num=num*(-1)\n",
        "  print(\"absolute value of -\",num,\"is\",num)\n",
        "  \n"
      ]
    },
    {
      "cell_type": "code",
      "source": [
        "x=int(input(\"Enter the number of classes held - \"))\n",
        "y=int(input(\"Number of classes attended - \"))\n",
        "if (y/x*100)<75:\n",
        "  print(\"Your attendance percentage is - \", y/x*100)\n",
        "  print(\"You are ineligible to appear for exams.\")\n",
        "else:\n",
        "  print(\"Your attendance percentage is - \", y/x*100)\n",
        "  print(\"You are eligible to appear for exams\")"
      ],
      "metadata": {
        "colab": {
          "base_uri": "https://localhost:8080/"
        },
        "id": "8Zh6NOBRpgtl",
        "outputId": "528d0122-0525-4e76-b543-febb2f466ae5"
      },
      "execution_count": null,
      "outputs": [
        {
          "output_type": "stream",
          "name": "stdout",
          "text": [
            "Enter the number of classes held - 100\n",
            "Number of classes attended - 100\n",
            "Your attendance percentage is -  100.0\n",
            "You are eligible to appear for exams\n"
          ]
        }
      ]
    },
    {
      "cell_type": "code",
      "source": [
        "x=int(input(\"Number of classes held\"))\n",
        "y=int(input(\"Number of classes attendeds\"))\n",
        "z=y/x * 100\n",
        "if z>75 :\n",
        "  print(z, \"Students is allowed to sit the exams\")\n",
        "else :\n",
        "  print(z, \"Students is not allowed to sit the exams\")\n"
      ],
      "metadata": {
        "id": "OcBBdwTapyp-",
        "colab": {
          "base_uri": "https://localhost:8080/"
        },
        "outputId": "e305edfc-090e-4081-d0a9-4ea14abc9125"
      },
      "execution_count": null,
      "outputs": [
        {
          "output_type": "stream",
          "name": "stdout",
          "text": [
            "Number of classes held 10\n",
            "Number of classes attendeds10\n",
            "100.0 Students is allowed to sit the exams\n"
          ]
        }
      ]
    },
    {
      "cell_type": "code",
      "source": [
        "print(\"Basic Calculator - Enter Numbers 1-4 to choose operation: \")\n",
        "print(\"1.Add\")\n",
        "print(\"2.Substract\")\n",
        "print(\"3.Multiply\")\n",
        "print(\"4.Divide\")\n",
        "\n",
        "x=int(input(\"Enter Choice(1-4): \"))\n",
        "\n",
        "if x==1:\n",
        "    a=int(input(\"Enter First Number:\"))\n",
        "    b=int(input(\"Enter Second Number:\"))\n",
        "    c=a+b\n",
        "    print(\"Sum = \",c)\n",
        "elif x==2:\n",
        "    a=int(input(\"Enter First Number:\"))\n",
        "    b=int(input(\"Enter Second Number:\"))\n",
        "    c=a-b\n",
        "    print(\"Difference = \",c)\n",
        "elif  x==3:\n",
        "    a=int(input(\"Enter First Number:\"))\n",
        "    b=int(input(\"Enter Second Number:\"))\n",
        "    c=a*b\n",
        "    print(\"Product = \",c)\n",
        "elif x==4:\n",
        "    a=int(input(\"Enter First Number:\"))\n",
        "    b=int(input(\"Enter Second Number:\"))\n",
        "    c=a/b\n",
        "    print(\"Quotient = \",c)\n",
        "else:\n",
        "    print(\"Invalid\")"
      ],
      "metadata": {
        "id": "Oyw3mg5BuwLH",
        "colab": {
          "base_uri": "https://localhost:8080/"
        },
        "outputId": "8579490c-0898-400c-e1ff-2d8c7ce717d6"
      },
      "execution_count": 18,
      "outputs": [
        {
          "output_type": "stream",
          "name": "stdout",
          "text": [
            "Basic Calculator - Enter Numbers 1-4 to choose operation: \n",
            "1.Add\n",
            "2.Substract\n",
            "3.Multiply\n",
            "4.Divide\n",
            "Enter Choice(1-4): 1\n",
            "Enter First Number:1000\n",
            "Enter Second Number:1000\n",
            "Sum =  2000\n"
          ]
        }
      ]
    },
    {
      "cell_type": "code",
      "source": [],
      "metadata": {
        "id": "wgj26gIx2lId"
      },
      "execution_count": 18,
      "outputs": []
    }
  ]
}