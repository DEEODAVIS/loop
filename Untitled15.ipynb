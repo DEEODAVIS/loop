{
  "nbformat": 4,
  "nbformat_minor": 0,
  "metadata": {
    "colab": {
      "provenance": [],
      "authorship_tag": "ABX9TyOPE4jHU2H4iVHBeT4myYnB",
      "include_colab_link": true
    },
    "kernelspec": {
      "name": "python3",
      "display_name": "Python 3"
    },
    "language_info": {
      "name": "python"
    }
  },
  "cells": [
    {
      "cell_type": "markdown",
      "metadata": {
        "id": "view-in-github",
        "colab_type": "text"
      },
      "source": [
        "<a href=\"https://colab.research.google.com/github/DEEODAVIS/loop/blob/main/Untitled15.ipynb\" target=\"_parent\"><img src=\"https://colab.research.google.com/assets/colab-badge.svg\" alt=\"Open In Colab\"/></a>"
      ]
    },
    {
      "cell_type": "code",
      "execution_count": null,
      "metadata": {
        "colab": {
          "base_uri": "https://localhost:8080/"
        },
        "id": "4_VMm0ZArpZb",
        "outputId": "98295b00-99d8-4feb-92c7-41e076414201"
      },
      "outputs": [
        {
          "output_type": "stream",
          "name": "stdout",
          "text": [
            "enter the number to display the corresponding of multiplier300\n",
            "1 * 300 = 300\n",
            "2 * 300 = 600\n",
            "3 * 300 = 900\n",
            "4 * 300 = 1200\n",
            "5 * 300 = 1500\n",
            "6 * 300 = 1800\n",
            "7 * 300 = 2100\n",
            "8 * 300 = 2400\n",
            "9 * 300 = 2700\n",
            "10 * 300 = 3000\n"
          ]
        }
      ],
      "source": [
        "num=int(input(\"enter the number to display the corresponding of multiplier\"))\n",
        "for i in range(1,11,1):\n",
        " print(i,\"*\",num,\"=\",i*num)"
      ]
    },
    {
      "cell_type": "code",
      "source": [
        "num=int(input())\n",
        "i=1\n",
        "while(i<10):\n",
        "  print(i,\"*\",num,\"=\",i*num)\n",
        "  i=i+1"
      ],
      "metadata": {
        "colab": {
          "base_uri": "https://localhost:8080/"
        },
        "id": "bU3p23SHvJq5",
        "outputId": "f752b836-941b-422a-e279-34ac99975aa3"
      },
      "execution_count": null,
      "outputs": [
        {
          "output_type": "stream",
          "name": "stdout",
          "text": [
            "500\n",
            "1 * 500 = 500\n",
            "2 * 500 = 1000\n",
            "3 * 500 = 1500\n",
            "4 * 500 = 2000\n",
            "5 * 500 = 2500\n",
            "6 * 500 = 3000\n",
            "7 * 500 = 3500\n",
            "8 * 500 = 4000\n",
            "9 * 500 = 4500\n"
          ]
        }
      ]
    },
    {
      "cell_type": "code",
      "source": [
        "num=input(\"Enter any number :\")\n",
        "k=0\n",
        "for i in num:\n",
        "  k=k+1\n",
        "print(k)\n"
      ],
      "metadata": {
        "colab": {
          "base_uri": "https://localhost:8080/"
        },
        "id": "4ckFSmOoyxpO",
        "outputId": "94a5a811-7188-426d-b98f-d60c4c28d557"
      },
      "execution_count": null,
      "outputs": [
        {
          "output_type": "stream",
          "name": "stdout",
          "text": [
            "Enter any number :22\n",
            "2\n"
          ]
        }
      ]
    },
    {
      "cell_type": "code",
      "source": [
        "English = int(input(\"Enter English marks:\"))\n",
        "Hindi = int(input(\"Enter Hindi marks:\"))\n",
        "Malayalam = int(input(\"Enter Malayalam marks:\"))\n",
        "Computer = int(input(\"Enter Computer marks:\"))\n",
        "Social = int(input(\"Enter Social marks:\"))\n",
        "\n",
        "marks=(English,Hindi,Malayalam,Computer,Social)\n",
        "print(min(marks))\n",
        "print(max(marks))\n",
        "print(sum(marks)/5)"
      ],
      "metadata": {
        "id": "c-yu2TZ32eHM",
        "colab": {
          "base_uri": "https://localhost:8080/"
        },
        "outputId": "5f55e41d-f057-4414-9b23-abe35ec469b9"
      },
      "execution_count": 11,
      "outputs": [
        {
          "output_type": "stream",
          "name": "stdout",
          "text": [
            "Enter English marks:10\n",
            "Enter Hindi marks:20\n",
            "Enter Malayalam marks:30\n",
            "Enter Computer marks:40\n",
            "Enter Social marks:50\n",
            "10\n",
            "50\n",
            "30.0\n"
          ]
        }
      ]
    },
    {
      "cell_type": "code",
      "source": [],
      "metadata": {
        "id": "DoWmq9xHAgzP"
      },
      "execution_count": 11,
      "outputs": []
    }
  ]
}