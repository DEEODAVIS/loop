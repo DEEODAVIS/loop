{
  "nbformat": 4,
  "nbformat_minor": 0,
  "metadata": {
    "colab": {
      "provenance": [],
      "authorship_tag": "ABX9TyMNJ6JkwOKkb/RqQlAr9n41",
      "include_colab_link": true
    },
    "kernelspec": {
      "name": "python3",
      "display_name": "Python 3"
    },
    "language_info": {
      "name": "python"
    }
  },
  "cells": [
    {
      "cell_type": "markdown",
      "metadata": {
        "id": "view-in-github",
        "colab_type": "text"
      },
      "source": [
        "<a href=\"https://colab.research.google.com/github/DEEODAVIS/loop/blob/main/Untitled17.ipynb\" target=\"_parent\"><img src=\"https://colab.research.google.com/assets/colab-badge.svg\" alt=\"Open In Colab\"/></a>"
      ]
    },
    {
      "cell_type": "code",
      "execution_count": 2,
      "metadata": {
        "colab": {
          "base_uri": "https://localhost:8080/"
        },
        "id": "oOJlRnNtt1Pr",
        "outputId": "a69e1aee-31a4-4755-95f3-7a1ee0c6da59"
      },
      "outputs": [
        {
          "output_type": "stream",
          "name": "stdout",
          "text": [
            "FIFA WORLD CUP\n"
          ]
        }
      ],
      "source": [
        "def fun_name():\n",
        "  print(\"FIFA WORLD CUP\")\n",
        "fun_name()"
      ]
    },
    {
      "cell_type": "code",
      "source": [
        "def  namies():\n",
        "  x=input(\"enter first name:\")\n",
        "  y=input(\"enter middle name:\")\n",
        "  z=input(\"enter last name:\")\n",
        "  print(x,y,z)\n",
        "\n",
        "\n",
        "\n"
      ],
      "metadata": {
        "id": "kbVYEc5uwEIA"
      },
      "execution_count": 3,
      "outputs": []
    },
    {
      "cell_type": "code",
      "source": [
        "namies()"
      ],
      "metadata": {
        "colab": {
          "base_uri": "https://localhost:8080/"
        },
        "id": "U8N4UZaTxuzu",
        "outputId": "78586eb0-0466-4b05-eba1-8ec56231a4c6"
      },
      "execution_count": 4,
      "outputs": [
        {
          "output_type": "stream",
          "name": "stdout",
          "text": [
            "enter first name:jomy\n",
            "enter middle name:thame\n",
            "enter last name:kataaa\n",
            "jomy thame kataaa\n"
          ]
        }
      ]
    },
    {
      "cell_type": "code",
      "source": [
        "def  namies():\n",
        "  x=input(\"enter first name:\")\n",
        "  y=input(\"enter middle name:\")\n",
        "  z=input(\"enter last name:\")\n",
        "  print(z,x,y)"
      ],
      "metadata": {
        "id": "NXOkKz7_xzr0"
      },
      "execution_count": 5,
      "outputs": []
    },
    {
      "cell_type": "code",
      "source": [
        "namies()"
      ],
      "metadata": {
        "colab": {
          "base_uri": "https://localhost:8080/"
        },
        "id": "KHg4b-9p0Bok",
        "outputId": "9a35767f-68c1-493e-9d82-0486eb14ad6b"
      },
      "execution_count": 7,
      "outputs": [
        {
          "output_type": "stream",
          "name": "stdout",
          "text": [
            "enter first name:aaron \n",
            "enter middle name:jomy\n",
            "enter last name:thamadii\n",
            "thamadii aaron  jomy\n"
          ]
        }
      ]
    },
    {
      "cell_type": "code",
      "source": [
        "def  namess(x,y,z):\n",
        "  print(z,x,y)\n",
        "x=input(\"enter first name:\")\n",
        "y=input(\"enter middle name:\")\n",
        "z=input(\"enter last name:\")\n"
      ],
      "metadata": {
        "colab": {
          "base_uri": "https://localhost:8080/"
        },
        "id": "LtSZZBl00Dxb",
        "outputId": "61c96079-dc9c-4552-bad5-79e00d6f9e1f"
      },
      "execution_count": 16,
      "outputs": [
        {
          "name": "stdout",
          "output_type": "stream",
          "text": [
            "enter first name:DEEO\n",
            "enter middle name:DAVIS\n",
            "enter last name:KALLELY\n"
          ]
        }
      ]
    },
    {
      "cell_type": "code",
      "source": [
        "namess(x,y,z)"
      ],
      "metadata": {
        "colab": {
          "base_uri": "https://localhost:8080/"
        },
        "id": "QnYG2Z5I1_Yr",
        "outputId": "a8683f30-ed95-42a6-854f-9e7fef4575fb"
      },
      "execution_count": 17,
      "outputs": [
        {
          "output_type": "stream",
          "name": "stdout",
          "text": [
            "KALLELY DEEO DAVIS\n"
          ]
        }
      ]
    },
    {
      "cell_type": "code",
      "source": [
        "def fun_name(country = \"ARGENTINE\"):\n",
        "  print(\"I AM FROM \" + country)\n",
        "fun_name(\"INDIA\")\n",
        "fun_name(\"BRAZIL\")\n",
        "fun_name()\n",
        "fun_name(\"JAPAN\")\n",
        "\n",
        "\n"
      ],
      "metadata": {
        "colab": {
          "base_uri": "https://localhost:8080/"
        },
        "id": "QkHFGXNP2FEW",
        "outputId": "9cd76017-dc5e-40af-cde8-664ef705a2cf"
      },
      "execution_count": 23,
      "outputs": [
        {
          "output_type": "stream",
          "name": "stdout",
          "text": [
            "I AM FROM INDIA\n",
            "I AM FROM BRAZIL\n",
            "I AM FROM ARGENTINE\n",
            "I AM FROM JAPAN\n"
          ]
        }
      ]
    },
    {
      "cell_type": "code",
      "source": [
        "def fun_name(x):\n",
        "  for y in x:\n",
        "    print(y)"
      ],
      "metadata": {
        "id": "bI47FiuB4AoL"
      },
      "execution_count": 24,
      "outputs": []
    },
    {
      "cell_type": "code",
      "source": [
        "k = [\"DEEO\",\"ADARSH\",\"DONAL\",\"ROBIN\"]\n"
      ],
      "metadata": {
        "id": "YnqiRiLr47AM"
      },
      "execution_count": 25,
      "outputs": []
    },
    {
      "cell_type": "code",
      "source": [
        "fun_name(k)"
      ],
      "metadata": {
        "colab": {
          "base_uri": "https://localhost:8080/"
        },
        "id": "OrcvB9tT5PfI",
        "outputId": "bf13f535-2b06-475c-df46-c46986abb2d4"
      },
      "execution_count": 26,
      "outputs": [
        {
          "output_type": "stream",
          "name": "stdout",
          "text": [
            "DEEO\n",
            "ADARSH\n",
            "DONAL\n",
            "ROBIN\n"
          ]
        }
      ]
    },
    {
      "cell_type": "code",
      "source": [],
      "metadata": {
        "id": "Q8tSlUsC5UGI"
      },
      "execution_count": null,
      "outputs": []
    }
  ]
}